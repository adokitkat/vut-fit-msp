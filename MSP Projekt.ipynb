{
 "cells": [
  {
   "cell_type": "code",
   "execution_count": 569,
   "metadata": {},
   "outputs": [
    {
     "name": "stdout",
     "output_type": "stream",
     "text": [
      "Defaulting to user installation because normal site-packages is not writeable\n",
      "Requirement already satisfied: pandas in /home/ado/.local/lib/python3.10/site-packages (1.5.1)\n",
      "Requirement already satisfied: seaborn in /home/ado/.local/lib/python3.10/site-packages (0.12.1)\n",
      "Requirement already satisfied: matplotlib in /home/ado/.local/lib/python3.10/site-packages (3.6.2)\n",
      "Requirement already satisfied: numpy in /home/ado/.local/lib/python3.10/site-packages (1.23.5)\n",
      "Requirement already satisfied: scipy in /home/ado/.local/lib/python3.10/site-packages (1.9.3)\n",
      "Requirement already satisfied: scikit-learn in /home/ado/.local/lib/python3.10/site-packages (1.0.2)\n",
      "Requirement already satisfied: openpyxl in /home/ado/.local/lib/python3.10/site-packages (3.0.10)\n",
      "Requirement already satisfied: statsmodels in /home/ado/.local/lib/python3.10/site-packages (0.13.5)\n",
      "Requirement already satisfied: python-dateutil>=2.8.1 in /home/ado/.local/lib/python3.10/site-packages (from pandas) (2.8.2)\n",
      "Requirement already satisfied: pytz>=2020.1 in /usr/lib/python3/dist-packages (from pandas) (2022.1)\n",
      "Requirement already satisfied: kiwisolver>=1.0.1 in /home/ado/.local/lib/python3.10/site-packages (from matplotlib) (1.4.4)\n",
      "Requirement already satisfied: pillow>=6.2.0 in /usr/lib/python3/dist-packages (from matplotlib) (9.0.1)\n",
      "Requirement already satisfied: pyparsing>=2.2.1 in /home/ado/.local/lib/python3.10/site-packages (from matplotlib) (3.0.9)\n",
      "Requirement already satisfied: contourpy>=1.0.1 in /home/ado/.local/lib/python3.10/site-packages (from matplotlib) (1.0.6)\n",
      "Requirement already satisfied: fonttools>=4.22.0 in /home/ado/.local/lib/python3.10/site-packages (from matplotlib) (4.38.0)\n",
      "Requirement already satisfied: packaging>=20.0 in /home/ado/.local/lib/python3.10/site-packages (from matplotlib) (21.3)\n",
      "Requirement already satisfied: cycler>=0.10 in /home/ado/.local/lib/python3.10/site-packages (from matplotlib) (0.11.0)\n",
      "Requirement already satisfied: threadpoolctl>=2.0.0 in /home/ado/.local/lib/python3.10/site-packages (from scikit-learn) (3.1.0)\n",
      "Requirement already satisfied: joblib>=0.11 in /home/ado/.local/lib/python3.10/site-packages (from scikit-learn) (1.2.0)\n",
      "Requirement already satisfied: et-xmlfile in /home/ado/.local/lib/python3.10/site-packages (from openpyxl) (1.1.0)\n",
      "Requirement already satisfied: patsy>=0.5.2 in /home/ado/.local/lib/python3.10/site-packages (from statsmodels) (0.5.3)\n",
      "Requirement already satisfied: six in /home/ado/.local/lib/python3.10/site-packages (from patsy>=0.5.2->statsmodels) (1.16.0)\n",
      "Note: you may need to restart the kernel to use updated packages.\n"
     ]
    }
   ],
   "source": [
    "%pip install pandas seaborn matplotlib numpy scipy scikit-learn openpyxl statsmodels"
   ]
  },
  {
   "cell_type": "code",
   "execution_count": 570,
   "metadata": {},
   "outputs": [],
   "source": [
    "from io import StringIO\n",
    "import numpy as np\n",
    "import pandas as pd\n",
    "from scipy.stats import chisquare, chi2, f, ttest_ind\n",
    "import statsmodels.api as sm\n",
    "import statsmodels.formula.api as smf"
   ]
  },
  {
   "cell_type": "markdown",
   "metadata": {},
   "source": [
    "----"
   ]
  },
  {
   "cell_type": "markdown",
   "metadata": {},
   "source": [
    "# 1. úloha"
   ]
  },
  {
   "cell_type": "markdown",
   "metadata": {},
   "source": [
    "## Načítanie a úprava dát"
   ]
  },
  {
   "cell_type": "markdown",
   "metadata": {},
   "source": [
    "Načítame si dáta."
   ]
  },
  {
   "cell_type": "code",
   "execution_count": 571,
   "metadata": {},
   "outputs": [
    {
     "data": {
      "text/html": [
       "<div>\n",
       "<style scoped>\n",
       "    .dataframe tbody tr th:only-of-type {\n",
       "        vertical-align: middle;\n",
       "    }\n",
       "\n",
       "    .dataframe tbody tr th {\n",
       "        vertical-align: top;\n",
       "    }\n",
       "\n",
       "    .dataframe thead th {\n",
       "        text-align: right;\n",
       "    }\n",
       "</style>\n",
       "<table border=\"1\" class=\"dataframe\">\n",
       "  <thead>\n",
       "    <tr style=\"text-align: right;\">\n",
       "      <th></th>\n",
       "      <th>Praha</th>\n",
       "      <th>Brno</th>\n",
       "      <th>Znojmo</th>\n",
       "      <th>Tisnov</th>\n",
       "      <th>Paseky</th>\n",
       "      <th>Horni Lomna</th>\n",
       "      <th>Dolni Vestonice</th>\n",
       "      <th>okoli studenta</th>\n",
       "    </tr>\n",
       "  </thead>\n",
       "  <tbody>\n",
       "    <tr>\n",
       "      <th>pocet respondentov</th>\n",
       "      <td>1327</td>\n",
       "      <td>915</td>\n",
       "      <td>681</td>\n",
       "      <td>587</td>\n",
       "      <td>284</td>\n",
       "      <td>176</td>\n",
       "      <td>215</td>\n",
       "      <td>42</td>\n",
       "    </tr>\n",
       "    <tr>\n",
       "      <th>zimny cas</th>\n",
       "      <td>510</td>\n",
       "      <td>324</td>\n",
       "      <td>302</td>\n",
       "      <td>257</td>\n",
       "      <td>147</td>\n",
       "      <td>66</td>\n",
       "      <td>87</td>\n",
       "      <td>12</td>\n",
       "    </tr>\n",
       "    <tr>\n",
       "      <th>letny cas</th>\n",
       "      <td>352</td>\n",
       "      <td>284</td>\n",
       "      <td>185</td>\n",
       "      <td>178</td>\n",
       "      <td>87</td>\n",
       "      <td>58</td>\n",
       "      <td>65</td>\n",
       "      <td>13</td>\n",
       "    </tr>\n",
       "    <tr>\n",
       "      <th>striedanie casu</th>\n",
       "      <td>257</td>\n",
       "      <td>178</td>\n",
       "      <td>124</td>\n",
       "      <td>78</td>\n",
       "      <td>44</td>\n",
       "      <td>33</td>\n",
       "      <td>31</td>\n",
       "      <td>9</td>\n",
       "    </tr>\n",
       "    <tr>\n",
       "      <th>nema nazor</th>\n",
       "      <td>208</td>\n",
       "      <td>129</td>\n",
       "      <td>70</td>\n",
       "      <td>74</td>\n",
       "      <td>6</td>\n",
       "      <td>19</td>\n",
       "      <td>32</td>\n",
       "      <td>8</td>\n",
       "    </tr>\n",
       "  </tbody>\n",
       "</table>\n",
       "</div>"
      ],
      "text/plain": [
       "                    Praha  Brno  Znojmo  Tisnov  Paseky  Horni Lomna  \\\n",
       "pocet respondentov   1327   915     681     587     284          176   \n",
       "zimny cas             510   324     302     257     147           66   \n",
       "letny cas             352   284     185     178      87           58   \n",
       "striedanie casu       257   178     124      78      44           33   \n",
       "nema nazor            208   129      70      74       6           19   \n",
       "\n",
       "                    Dolni Vestonice  okoli studenta  \n",
       "pocet respondentov              215              42  \n",
       "zimny cas                        87              12  \n",
       "letny cas                        65              13  \n",
       "striedanie casu                  31               9  \n",
       "nema nazor                       32               8  "
      ]
     },
     "execution_count": 571,
     "metadata": {},
     "output_type": "execute_result"
    }
   ],
   "source": [
    "data_csv = \"\"\"Praha,Brno,Znojmo,Tisnov,Paseky,Horni Lomna,Dolni Vestonice,okoli studenta\n",
    "1327,915,681,587,284,176,215,42\n",
    "510,324,302,257,147,66,87,12\n",
    "352,284,185,178,87,58,65,13\n",
    "257,178,124,78,44,33,31,9\n",
    "208,129,70,74,6,19,32,8\n",
    "\"\"\"\n",
    "df_input = pd.read_csv(StringIO(data_csv))\n",
    "df_input.index = ['pocet respondentov', 'zimny cas', 'letny cas', 'striedanie casu', 'nema nazor']\n",
    "df_input"
   ]
  },
  {
   "cell_type": "markdown",
   "metadata": {},
   "source": [
    "Dáta si rozdelíme na 3 dátove rámce (data frames).\n",
    "\n",
    "Prvý rámec obsahuje získané odpovede na jednotlivých miestach a ich okrajové početnosti."
   ]
  },
  {
   "cell_type": "code",
   "execution_count": 572,
   "metadata": {},
   "outputs": [
    {
     "data": {
      "text/html": [
       "<div>\n",
       "<style scoped>\n",
       "    .dataframe tbody tr th:only-of-type {\n",
       "        vertical-align: middle;\n",
       "    }\n",
       "\n",
       "    .dataframe tbody tr th {\n",
       "        vertical-align: top;\n",
       "    }\n",
       "\n",
       "    .dataframe thead th {\n",
       "        text-align: right;\n",
       "    }\n",
       "</style>\n",
       "<table border=\"1\" class=\"dataframe\">\n",
       "  <thead>\n",
       "    <tr style=\"text-align: right;\">\n",
       "      <th></th>\n",
       "      <th>Praha</th>\n",
       "      <th>Brno</th>\n",
       "      <th>Znojmo</th>\n",
       "      <th>Tisnov</th>\n",
       "      <th>Paseky</th>\n",
       "      <th>Horni Lomna</th>\n",
       "      <th>Dolni Vestonice</th>\n",
       "      <th>okoli studenta</th>\n",
       "    </tr>\n",
       "  </thead>\n",
       "  <tbody>\n",
       "    <tr>\n",
       "      <th>zimny cas</th>\n",
       "      <td>510</td>\n",
       "      <td>324</td>\n",
       "      <td>302</td>\n",
       "      <td>257</td>\n",
       "      <td>147</td>\n",
       "      <td>66</td>\n",
       "      <td>87</td>\n",
       "      <td>12</td>\n",
       "    </tr>\n",
       "    <tr>\n",
       "      <th>letny cas</th>\n",
       "      <td>352</td>\n",
       "      <td>284</td>\n",
       "      <td>185</td>\n",
       "      <td>178</td>\n",
       "      <td>87</td>\n",
       "      <td>58</td>\n",
       "      <td>65</td>\n",
       "      <td>13</td>\n",
       "    </tr>\n",
       "    <tr>\n",
       "      <th>striedanie casu</th>\n",
       "      <td>257</td>\n",
       "      <td>178</td>\n",
       "      <td>124</td>\n",
       "      <td>78</td>\n",
       "      <td>44</td>\n",
       "      <td>33</td>\n",
       "      <td>31</td>\n",
       "      <td>9</td>\n",
       "    </tr>\n",
       "    <tr>\n",
       "      <th>nema nazor</th>\n",
       "      <td>208</td>\n",
       "      <td>129</td>\n",
       "      <td>70</td>\n",
       "      <td>74</td>\n",
       "      <td>6</td>\n",
       "      <td>19</td>\n",
       "      <td>32</td>\n",
       "      <td>8</td>\n",
       "    </tr>\n",
       "  </tbody>\n",
       "</table>\n",
       "</div>"
      ],
      "text/plain": [
       "                 Praha  Brno  Znojmo  Tisnov  Paseky  Horni Lomna  \\\n",
       "zimny cas          510   324     302     257     147           66   \n",
       "letny cas          352   284     185     178      87           58   \n",
       "striedanie casu    257   178     124      78      44           33   \n",
       "nema nazor         208   129      70      74       6           19   \n",
       "\n",
       "                 Dolni Vestonice  okoli studenta  \n",
       "zimny cas                     87              12  \n",
       "letny cas                     65              13  \n",
       "striedanie casu               31               9  \n",
       "nema nazor                    32               8  "
      ]
     },
     "execution_count": 572,
     "metadata": {},
     "output_type": "execute_result"
    }
   ],
   "source": [
    "df = df_input.iloc[1:]\n",
    "df"
   ]
  },
  {
   "cell_type": "code",
   "execution_count": 573,
   "metadata": {},
   "outputs": [
    {
     "data": {
      "text/plain": [
       "Praha              1327\n",
       "Brno                915\n",
       "Znojmo              681\n",
       "Tisnov              587\n",
       "Paseky              284\n",
       "Horni Lomna         176\n",
       "Dolni Vestonice     215\n",
       "okoli studenta       42\n",
       "dtype: int64"
      ]
     },
     "execution_count": 573,
     "metadata": {},
     "output_type": "execute_result"
    }
   ],
   "source": [
    "df_column_sums = df.sum(axis=0)\n",
    "df_column_sums"
   ]
  },
  {
   "cell_type": "code",
   "execution_count": 574,
   "metadata": {},
   "outputs": [
    {
     "data": {
      "text/plain": [
       "zimny cas          1705\n",
       "letny cas          1222\n",
       "striedanie casu     754\n",
       "nema nazor          546\n",
       "dtype: int64"
      ]
     },
     "execution_count": 574,
     "metadata": {},
     "output_type": "execute_result"
    }
   ],
   "source": [
    "df_row_sums = df.sum(axis=1)\n",
    "df_row_sums"
   ]
  },
  {
   "cell_type": "markdown",
   "metadata": {},
   "source": [
    "Teoretické (očakávané) početnosti"
   ]
  },
  {
   "cell_type": "code",
   "execution_count": 575,
   "metadata": {},
   "outputs": [
    {
     "data": {
      "text/html": [
       "<div>\n",
       "<style scoped>\n",
       "    .dataframe tbody tr th:only-of-type {\n",
       "        vertical-align: middle;\n",
       "    }\n",
       "\n",
       "    .dataframe tbody tr th {\n",
       "        vertical-align: top;\n",
       "    }\n",
       "\n",
       "    .dataframe thead th {\n",
       "        text-align: right;\n",
       "    }\n",
       "</style>\n",
       "<table border=\"1\" class=\"dataframe\">\n",
       "  <thead>\n",
       "    <tr style=\"text-align: right;\">\n",
       "      <th></th>\n",
       "      <th>Praha</th>\n",
       "      <th>Brno</th>\n",
       "      <th>Znojmo</th>\n",
       "      <th>Tisnov</th>\n",
       "      <th>Paseky</th>\n",
       "      <th>Horni Lomna</th>\n",
       "      <th>Dolni Vestonice</th>\n",
       "      <th>okoli studenta</th>\n",
       "    </tr>\n",
       "  </thead>\n",
       "  <tbody>\n",
       "    <tr>\n",
       "      <th>zimny cas</th>\n",
       "      <td>535.257866</td>\n",
       "      <td>369.073811</td>\n",
       "      <td>274.687722</td>\n",
       "      <td>236.771942</td>\n",
       "      <td>114.554057</td>\n",
       "      <td>70.991247</td>\n",
       "      <td>86.722262</td>\n",
       "      <td>16.941093</td>\n",
       "    </tr>\n",
       "    <tr>\n",
       "      <th>letny cas</th>\n",
       "      <td>383.627632</td>\n",
       "      <td>264.520937</td>\n",
       "      <td>196.872960</td>\n",
       "      <td>169.698131</td>\n",
       "      <td>82.102673</td>\n",
       "      <td>50.880530</td>\n",
       "      <td>62.155193</td>\n",
       "      <td>12.141945</td>\n",
       "    </tr>\n",
       "    <tr>\n",
       "      <th>striedanie casu</th>\n",
       "      <td>236.706411</td>\n",
       "      <td>163.215046</td>\n",
       "      <td>121.474805</td>\n",
       "      <td>104.707357</td>\n",
       "      <td>50.659096</td>\n",
       "      <td>31.394370</td>\n",
       "      <td>38.351076</td>\n",
       "      <td>7.491838</td>\n",
       "    </tr>\n",
       "    <tr>\n",
       "      <th>nema nazor</th>\n",
       "      <td>171.408091</td>\n",
       "      <td>118.190206</td>\n",
       "      <td>87.964514</td>\n",
       "      <td>75.822569</td>\n",
       "      <td>36.684173</td>\n",
       "      <td>22.733854</td>\n",
       "      <td>27.771469</td>\n",
       "      <td>5.425124</td>\n",
       "    </tr>\n",
       "  </tbody>\n",
       "</table>\n",
       "</div>"
      ],
      "text/plain": [
       "                      Praha        Brno      Znojmo      Tisnov      Paseky  \\\n",
       "zimny cas        535.257866  369.073811  274.687722  236.771942  114.554057   \n",
       "letny cas        383.627632  264.520937  196.872960  169.698131   82.102673   \n",
       "striedanie casu  236.706411  163.215046  121.474805  104.707357   50.659096   \n",
       "nema nazor       171.408091  118.190206   87.964514   75.822569   36.684173   \n",
       "\n",
       "                 Horni Lomna  Dolni Vestonice  okoli studenta  \n",
       "zimny cas          70.991247        86.722262       16.941093  \n",
       "letny cas          50.880530        62.155193       12.141945  \n",
       "striedanie casu    31.394370        38.351076        7.491838  \n",
       "nema nazor         22.733854        27.771469        5.425124  "
      ]
     },
     "execution_count": 575,
     "metadata": {},
     "output_type": "execute_result"
    }
   ],
   "source": [
    "n = df.sum().sum()\n",
    "column = []\n",
    "for i in df_row_sums:\n",
    "    row = []\n",
    "    for j in df_column_sums:\n",
    "        x = (i*j)/n\n",
    "        row.append(x)\n",
    "    column.append(row)\n",
    "df_expected = pd.DataFrame(column, index=df.index, columns=df.columns)\n",
    "df_expected"
   ]
  },
  {
   "cell_type": "markdown",
   "metadata": {},
   "source": [
    "## Riešenie pre a), b), c)"
   ]
  },
  {
   "cell_type": "markdown",
   "metadata": {},
   "source": [
    "Na riešenie použijeme **Test dobrej zhody** a funkciu `chisquare()`\n"
   ]
  },
  {
   "cell_type": "markdown",
   "metadata": {},
   "source": [
    "### Výpočet Chi^2, porovnanie s kritickým oborom a odpoveď"
   ]
  },
  {
   "cell_type": "markdown",
   "metadata": {},
   "source": [
    "Stupne voľnosti a horná hranica doplnku kritického oboru pre a), b), c)"
   ]
  },
  {
   "cell_type": "code",
   "execution_count": 576,
   "metadata": {},
   "outputs": [
    {
     "name": "stdout",
     "output_type": "stream",
     "text": [
      "Stupne voľnosti = 6\n",
      "Doplnok kritického oboru = <0, 12.591587243743977>\n"
     ]
    }
   ],
   "source": [
    "alfa = 0.05\n",
    "m = len(df.columns)\n",
    "q = 1 # pocet odhadnutych tried\n",
    "k = m - q -1 \n",
    "critical_value = chi2.ppf(1-alfa, df=k)\n",
    "print(f\"Stupne voľnosti = {k}\")\n",
    "print(f\"Doplnok kritického oboru = <0, {critical_value}>\")"
   ]
  },
  {
   "cell_type": "markdown",
   "metadata": {},
   "source": [
    "### Zimný čas"
   ]
  },
  {
   "cell_type": "markdown",
   "metadata": {},
   "source": [
    "#### Hypotéza\n",
    "\n",
    "H0: V miestách, obciach a okolí študenta je rovnaké percentuálne zastúpenie obyvateľov preferujúcich zimný čas.\n",
    "\n",
    "Ha: V miestách, obciach a okolí študenta nie je rovnaké percentuálne zastúpenie obyvateľov preferujúcich zimný čas."
   ]
  },
  {
   "cell_type": "code",
   "execution_count": 577,
   "metadata": {},
   "outputs": [
    {
     "name": "stdout",
     "output_type": "stream",
     "text": [
      "Chi^2 = 22.123238111256924\n",
      "K = 12.591587243743977\n",
      "Chi^2 >= K\n"
     ]
    }
   ],
   "source": [
    "chi_sqrt, _ = chisquare(f_obs=df.loc['zimny cas'], f_exp=df_expected.loc['zimny cas'])\n",
    "print(\"Chi^2 =\", chi_sqrt)\n",
    "print(\"K =\", critical_value)\n",
    "\n",
    "if chi_sqrt >= critical_value:\n",
    "    print(\"Chi^2 >= K\")\n",
    "else:\n",
    "    print(\"Chi^2 < K\")"
   ]
  },
  {
   "cell_type": "markdown",
   "metadata": {},
   "source": [
    "a) Chi^2 nepatrí do doplnku kritického oboru W\n",
    "\n",
    "H0 zamietame"
   ]
  },
  {
   "cell_type": "markdown",
   "metadata": {},
   "source": [
    "### Letný čas"
   ]
  },
  {
   "cell_type": "markdown",
   "metadata": {},
   "source": [
    "Hypotéza\n",
    "\n",
    "H0: V miestách, obciach a okolí študenta je rovnaké percentuálne zastúpenie obyvateľov preferujúcich letný čas.\n",
    "\n",
    "Ha: V miestách, obciach a okolí študenta nie je rovnaké percentuálne zastúpenie obyvateľov preferujúcich letný čas."
   ]
  },
  {
   "cell_type": "code",
   "execution_count": 578,
   "metadata": {},
   "outputs": [
    {
     "name": "stdout",
     "output_type": "stream",
     "text": [
      "Chi^2 = 6.643240260656005\n",
      "K = 12.591587243743977\n",
      "Chi^2 < K\n"
     ]
    }
   ],
   "source": [
    "chi_sqrt, _ = chisquare(f_obs=df.loc['letny cas'], f_exp=df_expected.loc['letny cas'])\n",
    "print(\"Chi^2 =\", chi_sqrt)\n",
    "print(\"K =\", critical_value)\n",
    "\n",
    "if chi_sqrt >= critical_value:\n",
    "    print(\"Chi^2 >= K\")\n",
    "else:\n",
    "    print(\"Chi^2 < K\")"
   ]
  },
  {
   "cell_type": "markdown",
   "metadata": {},
   "source": [
    "b) Chi^2 patrí do doplnku kritického oboru W\n",
    "\n",
    "H0 nezamietame"
   ]
  },
  {
   "cell_type": "markdown",
   "metadata": {},
   "source": [
    "### Striedanie času"
   ]
  },
  {
   "cell_type": "markdown",
   "metadata": {},
   "source": [
    "#### Hypotéza\n",
    "\n",
    "H0: V miestách, obciach a okolí študenta je rovnaké percentuálne zastúpenie obyvateľov preferujúcich striedanie času.\n",
    "\n",
    "Ha: V miestách, obciach a okolí študenta nie je rovnaké percentuálne zastúpenie obyvateľov preferujúcich striedanie času."
   ]
  },
  {
   "cell_type": "code",
   "execution_count": 579,
   "metadata": {},
   "outputs": [
    {
     "name": "stdout",
     "output_type": "stream",
     "text": [
      "Chi^2 = 12.613887594332608\n",
      "K = 12.591587243743977\n",
      "Chi^2 >= K\n"
     ]
    }
   ],
   "source": [
    "chi_sqrt, _ = chisquare(f_obs=df.loc['striedanie casu'], f_exp=df_expected.loc['striedanie casu'])\n",
    "print(\"Chi^2 =\", chi_sqrt)\n",
    "print(\"K =\", critical_value)\n",
    "\n",
    "if chi_sqrt >= critical_value:\n",
    "    print(\"Chi^2 >= K\")\n",
    "else:\n",
    "    print(\"Chi^2 < K\")"
   ]
  },
  {
   "cell_type": "markdown",
   "metadata": {},
   "source": [
    "c) Chi^2 nepatrí do doplnku kritického oboru W\n",
    "\n",
    "H0 zamietame"
   ]
  },
  {
   "cell_type": "markdown",
   "metadata": {},
   "source": [
    "## Riešenie d), e)"
   ]
  },
  {
   "cell_type": "markdown",
   "metadata": {},
   "source": [
    "Na riešenie použijeme **Test dobrej zhody** a funkciu `chisquare()`"
   ]
  },
  {
   "cell_type": "code",
   "execution_count": 580,
   "metadata": {},
   "outputs": [
    {
     "data": {
      "text/html": [
       "<div>\n",
       "<style scoped>\n",
       "    .dataframe tbody tr th:only-of-type {\n",
       "        vertical-align: middle;\n",
       "    }\n",
       "\n",
       "    .dataframe tbody tr th {\n",
       "        vertical-align: top;\n",
       "    }\n",
       "\n",
       "    .dataframe thead th {\n",
       "        text-align: right;\n",
       "    }\n",
       "</style>\n",
       "<table border=\"1\" class=\"dataframe\">\n",
       "  <thead>\n",
       "    <tr style=\"text-align: right;\">\n",
       "      <th></th>\n",
       "      <th>velke mesta</th>\n",
       "      <th>male mesta</th>\n",
       "      <th>obce</th>\n",
       "    </tr>\n",
       "  </thead>\n",
       "  <tbody>\n",
       "    <tr>\n",
       "      <th>zimny cas</th>\n",
       "      <td>834</td>\n",
       "      <td>559</td>\n",
       "      <td>300</td>\n",
       "    </tr>\n",
       "    <tr>\n",
       "      <th>letny cas</th>\n",
       "      <td>636</td>\n",
       "      <td>363</td>\n",
       "      <td>210</td>\n",
       "    </tr>\n",
       "    <tr>\n",
       "      <th>striedanie casu</th>\n",
       "      <td>435</td>\n",
       "      <td>202</td>\n",
       "      <td>108</td>\n",
       "    </tr>\n",
       "    <tr>\n",
       "      <th>nema nazor</th>\n",
       "      <td>337</td>\n",
       "      <td>144</td>\n",
       "      <td>57</td>\n",
       "    </tr>\n",
       "  </tbody>\n",
       "</table>\n",
       "</div>"
      ],
      "text/plain": [
       "                 velke mesta  male mesta  obce\n",
       "zimny cas                834         559   300\n",
       "letny cas                636         363   210\n",
       "striedanie casu          435         202   108\n",
       "nema nazor               337         144    57"
      ]
     },
     "execution_count": 580,
     "metadata": {},
     "output_type": "execute_result"
    }
   ],
   "source": [
    "df_d = pd.DataFrame()\n",
    "df_d[\"velke mesta\"] = df[\"Praha\"] + df[\"Brno\"]\n",
    "df_d[\"male mesta\"] = df[\"Znojmo\"] + df[\"Tisnov\"]\n",
    "df_d[\"obce\"] = df[\"Paseky\"] + df[\"Horni Lomna\"] + df[\"Dolni Vestonice\"]\n",
    "df_d"
   ]
  },
  {
   "cell_type": "code",
   "execution_count": 581,
   "metadata": {},
   "outputs": [
    {
     "data": {
      "text/plain": [
       "velke mesta    2242\n",
       "male mesta     1268\n",
       "obce            675\n",
       "dtype: int64"
      ]
     },
     "execution_count": 581,
     "metadata": {},
     "output_type": "execute_result"
    }
   ],
   "source": [
    "df_d_column_sums = df_d.sum(axis=0)\n",
    "df_d_column_sums"
   ]
  },
  {
   "cell_type": "code",
   "execution_count": 582,
   "metadata": {},
   "outputs": [
    {
     "data": {
      "text/plain": [
       "zimny cas          1693\n",
       "letny cas          1209\n",
       "striedanie casu     745\n",
       "nema nazor          538\n",
       "dtype: int64"
      ]
     },
     "execution_count": 582,
     "metadata": {},
     "output_type": "execute_result"
    }
   ],
   "source": [
    "df_d_row_sums = df_d.sum(axis=1)\n",
    "df_d_row_sums"
   ]
  },
  {
   "cell_type": "markdown",
   "metadata": {},
   "source": [
    "Teoretické (očakávané) početnosti"
   ]
  },
  {
   "cell_type": "code",
   "execution_count": 583,
   "metadata": {},
   "outputs": [
    {
     "data": {
      "text/html": [
       "<div>\n",
       "<style scoped>\n",
       "    .dataframe tbody tr th:only-of-type {\n",
       "        vertical-align: middle;\n",
       "    }\n",
       "\n",
       "    .dataframe tbody tr th {\n",
       "        vertical-align: top;\n",
       "    }\n",
       "\n",
       "    .dataframe thead th {\n",
       "        text-align: right;\n",
       "    }\n",
       "</style>\n",
       "<table border=\"1\" class=\"dataframe\">\n",
       "  <thead>\n",
       "    <tr style=\"text-align: right;\">\n",
       "      <th></th>\n",
       "      <th>velke mesta</th>\n",
       "      <th>male mesta</th>\n",
       "      <th>obce</th>\n",
       "    </tr>\n",
       "  </thead>\n",
       "  <tbody>\n",
       "    <tr>\n",
       "      <th>zimny cas</th>\n",
       "      <td>906.978734</td>\n",
       "      <td>512.956750</td>\n",
       "      <td>273.064516</td>\n",
       "    </tr>\n",
       "    <tr>\n",
       "      <th>letny cas</th>\n",
       "      <td>647.688889</td>\n",
       "      <td>366.311111</td>\n",
       "      <td>195.000000</td>\n",
       "    </tr>\n",
       "    <tr>\n",
       "      <th>striedanie casu</th>\n",
       "      <td>399.113501</td>\n",
       "      <td>225.725209</td>\n",
       "      <td>120.161290</td>\n",
       "    </tr>\n",
       "    <tr>\n",
       "      <th>nema nazor</th>\n",
       "      <td>288.218877</td>\n",
       "      <td>163.006930</td>\n",
       "      <td>86.774194</td>\n",
       "    </tr>\n",
       "  </tbody>\n",
       "</table>\n",
       "</div>"
      ],
      "text/plain": [
       "                 velke mesta  male mesta        obce\n",
       "zimny cas         906.978734  512.956750  273.064516\n",
       "letny cas         647.688889  366.311111  195.000000\n",
       "striedanie casu   399.113501  225.725209  120.161290\n",
       "nema nazor        288.218877  163.006930   86.774194"
      ]
     },
     "execution_count": 583,
     "metadata": {},
     "output_type": "execute_result"
    }
   ],
   "source": [
    "n = df_d.sum().sum()\n",
    "column = []\n",
    "for i in df_d_row_sums:\n",
    "    row = []\n",
    "    for j in df_d_column_sums:\n",
    "        x = (i*j)/n\n",
    "        row.append(x)\n",
    "    column.append(row)\n",
    "df_d_expected = pd.DataFrame(column, index=df_d.index, columns=df_d.columns)\n",
    "df_d_expected"
   ]
  },
  {
   "cell_type": "markdown",
   "metadata": {},
   "source": [
    "### Výpočet Chi^2, porovnanie s kritickým oborom a odpoveď"
   ]
  },
  {
   "cell_type": "markdown",
   "metadata": {},
   "source": [
    "Stupne voľnosti a horná hranica doplnku kritického oboru pre d), e)"
   ]
  },
  {
   "cell_type": "code",
   "execution_count": 584,
   "metadata": {},
   "outputs": [
    {
     "name": "stdout",
     "output_type": "stream",
     "text": [
      "Stupne voľnosti = 1\n",
      "Doplnok kritického oboru = <0, 3.841458820694124>\n"
     ]
    }
   ],
   "source": [
    "alfa = 0.05\n",
    "m = len(df_d.columns)\n",
    "q = 1 # pocet odhadnutych tried\n",
    "k = m - q - 1\n",
    "critical_value = chi2.ppf(1-alfa, df=k)\n",
    "print(f\"Stupne voľnosti = {k}\")\n",
    "print(f\"Doplnok kritického oboru = <0, {critical_value}>\")"
   ]
  },
  {
   "cell_type": "markdown",
   "metadata": {},
   "source": [
    "### d)"
   ]
  },
  {
   "cell_type": "markdown",
   "metadata": {},
   "source": [
    "#### Hypotéza pre d)\n",
    "\n",
    "H0: U väčších miest, menších miest a obcí je rovnaké percentuálne zastúpenie obyvateľov preferujúcich zimný čas.\n",
    "\n",
    "Ha: U väčších miest, menších miest a obcí nie je rovnaké percentuálne zastúpenie obyvateľov preferujúcich zimný čas."
   ]
  },
  {
   "cell_type": "code",
   "execution_count": 585,
   "metadata": {},
   "outputs": [
    {
     "name": "stdout",
     "output_type": "stream",
     "text": [
      "Chi^2 = 12.661948651569508\n",
      "K = 3.841458820694124\n",
      "Chi^2 >= K\n"
     ]
    }
   ],
   "source": [
    "chi_sqrt, _ = chisquare(f_obs=df_d.loc['zimny cas'], f_exp=df_d_expected.loc['zimny cas'])\n",
    "print(\"Chi^2 =\", chi_sqrt)\n",
    "print(\"K =\", critical_value)\n",
    "\n",
    "if chi_sqrt >= critical_value:\n",
    "    print(\"Chi^2 >= K\")\n",
    "else:\n",
    "    print(\"Chi^2 < K\")"
   ]
  },
  {
   "cell_type": "markdown",
   "metadata": {},
   "source": [
    "d) Chi^2 nepatrí do doplnku kritického oboru W\n",
    "\n",
    "H0 zamietame"
   ]
  },
  {
   "cell_type": "markdown",
   "metadata": {},
   "source": [
    "### e)\n"
   ]
  },
  {
   "cell_type": "markdown",
   "metadata": {},
   "source": [
    "#### Hypotéza pre e)\n",
    "\n",
    "H0: U väčších miest, menších miest a obcí je rovnaké percentuálne zastúpenie nerozhodnutých obyvateľov.\n",
    "\n",
    "Ha: U väčších miest, menších miest a obcí nie je rovnaké percentuálne zastúpenie nerozhodnutých obyvateľov."
   ]
  },
  {
   "cell_type": "code",
   "execution_count": 586,
   "metadata": {},
   "outputs": [
    {
     "name": "stdout",
     "output_type": "stream",
     "text": [
      "Chi^2 = 20.688664757394136\n",
      "K = 3.841458820694124\n",
      "Chi^2 >= K\n"
     ]
    }
   ],
   "source": [
    "chi_sqrt, _ = chisquare(f_obs=df_d.loc['nema nazor'], f_exp=df_d_expected.loc['nema nazor'])\n",
    "print(\"Chi^2 =\", chi_sqrt)\n",
    "print(\"K =\", critical_value)\n",
    "\n",
    "if chi_sqrt >= critical_value:\n",
    "    print(\"Chi^2 >= K\")\n",
    "else:\n",
    "    print(\"Chi^2 < K\")"
   ]
  },
  {
   "cell_type": "markdown",
   "metadata": {},
   "source": [
    "e) Chi^2 nepatrí do doplnku kritického oboru W\n",
    "\n",
    " H0 zamietame"
   ]
  },
  {
   "cell_type": "markdown",
   "metadata": {},
   "source": [
    "## Riešenie f)"
   ]
  },
  {
   "cell_type": "markdown",
   "metadata": {},
   "source": [
    "Porovnanie odpovedí z okolia študenta a odpovedí z veľkých, malých miest a obcí.\n",
    "\n",
    "Používam Welchov T-test, lebo sa viac hodí na datasety s rôznou veľkosťou ako Studentov."
   ]
  },
  {
   "cell_type": "markdown",
   "metadata": {},
   "source": [
    "H0: u1 = u2\n",
    "\n",
    "Ha: u1 ≠ u2"
   ]
  },
  {
   "cell_type": "code",
   "execution_count": 587,
   "metadata": {},
   "outputs": [
    {
     "name": "stdout",
     "output_type": "stream",
     "text": [
      "p-value for 'okoli studenta' and 'velke mesta': 0.01553248613248995\n",
      "\n",
      "p-value for 'okoli studenta' and 'male mesta': 0.045893891082867136\n",
      "\n",
      "p-value for 'okoli studenta' and 'obce': 0.06117252249298722\n",
      "\n"
     ]
    }
   ],
   "source": [
    "df_d_s = df_d\n",
    "df_d_s['okoli studenta'] = df['okoli studenta']\n",
    "\n",
    "for col in list(df_d_s.columns):\n",
    "    if col == \"okoli studenta\":\n",
    "        continue\n",
    "\n",
    "    t_statistic, p_value = ttest_ind(df_d_s['okoli studenta'], df_d_s[col], equal_var=False)\n",
    "\n",
    "    print(f\"p-value for 'okoli studenta' and '{col}': {p_value}\\n\")"
   ]
  },
  {
   "cell_type": "markdown",
   "metadata": {},
   "source": [
    "P-hodnota je najnižšia (najviac signifikantná) pri porovnaní s veľkým mestom. Tým pádom je najpravepodobnejšie, že sa prieskum uskutočnil vo veľkom meste, čo sa zhoduje s realitou."
   ]
  },
  {
   "cell_type": "markdown",
   "metadata": {},
   "source": [
    "----"
   ]
  },
  {
   "cell_type": "markdown",
   "metadata": {},
   "source": [
    "# Úloha 2"
   ]
  },
  {
   "cell_type": "markdown",
   "metadata": {},
   "source": [
    "Hodnoty stĺpca Zi sú zo zadania číslo 16."
   ]
  },
  {
   "cell_type": "code",
   "execution_count": 588,
   "metadata": {},
   "outputs": [],
   "source": [
    "data_csv = \"\"\"\n",
    "xi,yi,zi\n",
    "0.00,0.00,-75.23\n",
    "0.00,1.67,-133.49\n",
    "0.00,3.33,221.49\n",
    "0.00,5.00,-141.96\n",
    "0.00,6.67,-150.27\n",
    "0.00,8.33,-238.79\n",
    "0.00,10.00,-338.73\n",
    "2.22,0.00,61.52\n",
    "2.22,1.67,79.17\n",
    "2.22,3.33,136.48\n",
    "2.22,5.00,43.3\n",
    "2.22,6.67,101.39\n",
    "2.22,8.33,-184.1\n",
    "2.22,10.00,-53.95\n",
    "4.44,0.00,164.96\n",
    "4.44,1.67,305.02\n",
    "4.44,3.33,36.75\n",
    "4.44,5.00,-16.15\n",
    "4.44,6.67,114.94\n",
    "4.44,8.33,153.55\n",
    "4.44,10.00,-14.72\n",
    "6.67,0.00,28.79\n",
    "6.67,1.67,172.22\n",
    "6.67,3.33,188.25\n",
    "6.67,5.00,74.83\n",
    "6.67,6.67,295.69\n",
    "6.67,8.33,291.03\n",
    "6.67,10.00,162.86\n",
    "8.89,0.00,299.93\n",
    "8.89,1.67,422.69\n",
    "8.89,3.33,426.75\n",
    "8.89,5.00,422.44\n",
    "8.89,6.67,279.62\n",
    "8.89,8.33,593.67\n",
    "8.89,10.00,367.81\n",
    "11.11,0.00,508.42\n",
    "11.11,1.67,731.32\n",
    "11.11,3.33,678.25\n",
    "11.11,5.00,816.06\n",
    "11.11,6.67,732.05\n",
    "11.11,8.33,704.33\n",
    "11.11,10.00,659.81\n",
    "13.33,0.00,761.02\n",
    "13.33,1.67,992.01\n",
    "13.33,3.33,1008.87\n",
    "13.33,5.00,1058.73\n",
    "13.33,6.67,1006.23\n",
    "13.33,8.33,994.69\n",
    "13.33,10.00,899.51\n",
    "15.56,0.00,1028.39\n",
    "15.56,1.67,1057.04\n",
    "15.56,3.33,1394.85\n",
    "15.56,5.00,1537.02\n",
    "15.56,6.67,1317.17\n",
    "15.56,8.33,1434.94\n",
    "15.56,10.00,1530.17\n",
    "17.78,0.00,1712.19\n",
    "17.78,1.67,1585.74\n",
    "17.78,3.33,1829.18\n",
    "17.78,5.00,1688.55\n",
    "17.78,6.67,1849.22\n",
    "17.78,8.33,1807.13\n",
    "17.78,10.00,1944.75\n",
    "20.00,0.00,1893.26\n",
    "20.00,1.67,1909.45\n",
    "20.00,3.33,2014.4\n",
    "20.00,5.00,2085.05\n",
    "20.00,6.67,2280.92\n",
    "20.00,8.33,2435.12\n",
    "20.00,10.00,2369.4\n",
    "\"\"\""
   ]
  },
  {
   "cell_type": "code",
   "execution_count": 589,
   "metadata": {},
   "outputs": [
    {
     "data": {
      "text/html": [
       "<div>\n",
       "<style scoped>\n",
       "    .dataframe tbody tr th:only-of-type {\n",
       "        vertical-align: middle;\n",
       "    }\n",
       "\n",
       "    .dataframe tbody tr th {\n",
       "        vertical-align: top;\n",
       "    }\n",
       "\n",
       "    .dataframe thead th {\n",
       "        text-align: right;\n",
       "    }\n",
       "</style>\n",
       "<table border=\"1\" class=\"dataframe\">\n",
       "  <thead>\n",
       "    <tr style=\"text-align: right;\">\n",
       "      <th></th>\n",
       "      <th>xi</th>\n",
       "      <th>yi</th>\n",
       "      <th>zi</th>\n",
       "    </tr>\n",
       "  </thead>\n",
       "  <tbody>\n",
       "    <tr>\n",
       "      <th>0</th>\n",
       "      <td>0.0</td>\n",
       "      <td>0.00</td>\n",
       "      <td>-75.23</td>\n",
       "    </tr>\n",
       "    <tr>\n",
       "      <th>1</th>\n",
       "      <td>0.0</td>\n",
       "      <td>1.67</td>\n",
       "      <td>-133.49</td>\n",
       "    </tr>\n",
       "    <tr>\n",
       "      <th>2</th>\n",
       "      <td>0.0</td>\n",
       "      <td>3.33</td>\n",
       "      <td>221.49</td>\n",
       "    </tr>\n",
       "    <tr>\n",
       "      <th>3</th>\n",
       "      <td>0.0</td>\n",
       "      <td>5.00</td>\n",
       "      <td>-141.96</td>\n",
       "    </tr>\n",
       "    <tr>\n",
       "      <th>4</th>\n",
       "      <td>0.0</td>\n",
       "      <td>6.67</td>\n",
       "      <td>-150.27</td>\n",
       "    </tr>\n",
       "    <tr>\n",
       "      <th>...</th>\n",
       "      <td>...</td>\n",
       "      <td>...</td>\n",
       "      <td>...</td>\n",
       "    </tr>\n",
       "    <tr>\n",
       "      <th>65</th>\n",
       "      <td>20.0</td>\n",
       "      <td>3.33</td>\n",
       "      <td>2014.40</td>\n",
       "    </tr>\n",
       "    <tr>\n",
       "      <th>66</th>\n",
       "      <td>20.0</td>\n",
       "      <td>5.00</td>\n",
       "      <td>2085.05</td>\n",
       "    </tr>\n",
       "    <tr>\n",
       "      <th>67</th>\n",
       "      <td>20.0</td>\n",
       "      <td>6.67</td>\n",
       "      <td>2280.92</td>\n",
       "    </tr>\n",
       "    <tr>\n",
       "      <th>68</th>\n",
       "      <td>20.0</td>\n",
       "      <td>8.33</td>\n",
       "      <td>2435.12</td>\n",
       "    </tr>\n",
       "    <tr>\n",
       "      <th>69</th>\n",
       "      <td>20.0</td>\n",
       "      <td>10.00</td>\n",
       "      <td>2369.40</td>\n",
       "    </tr>\n",
       "  </tbody>\n",
       "</table>\n",
       "<p>70 rows × 3 columns</p>\n",
       "</div>"
      ],
      "text/plain": [
       "      xi     yi       zi\n",
       "0    0.0   0.00   -75.23\n",
       "1    0.0   1.67  -133.49\n",
       "2    0.0   3.33   221.49\n",
       "3    0.0   5.00  -141.96\n",
       "4    0.0   6.67  -150.27\n",
       "..   ...    ...      ...\n",
       "65  20.0   3.33  2014.40\n",
       "66  20.0   5.00  2085.05\n",
       "67  20.0   6.67  2280.92\n",
       "68  20.0   8.33  2435.12\n",
       "69  20.0  10.00  2369.40\n",
       "\n",
       "[70 rows x 3 columns]"
      ]
     },
     "execution_count": 589,
     "metadata": {},
     "output_type": "execute_result"
    }
   ],
   "source": [
    "df = pd.read_csv(StringIO(data_csv))\n",
    "df"
   ]
  },
  {
   "cell_type": "markdown",
   "metadata": {},
   "source": [
    "## Riešenie a), b)"
   ]
  },
  {
   "cell_type": "markdown",
   "metadata": {},
   "source": [
    "Rovnicu regresnej funkcie použijeme v OLS a získame výsledky."
   ]
  },
  {
   "cell_type": "markdown",
   "metadata": {},
   "source": [
    "$$Z = \\beta_1 + \\beta_2X + \\beta_3Y + \\beta_4(X^2) + \\beta_5(Y^2) + \\beta_6(X\\cdot Y)$$"
   ]
  },
  {
   "cell_type": "code",
   "execution_count": 590,
   "metadata": {},
   "outputs": [
    {
     "name": "stdout",
     "output_type": "stream",
     "text": [
      "                            OLS Regression Results                            \n",
      "==============================================================================\n",
      "Dep. Variable:                     zi   R-squared:                       0.983\n",
      "Model:                            OLS   Adj. R-squared:                  0.982\n",
      "Method:                 Least Squares   F-statistic:                     743.5\n",
      "Date:                Sun, 11 Dec 2022   Prob (F-statistic):           2.89e-55\n",
      "Time:                        20:52:23   Log-Likelihood:                -420.38\n",
      "No. Observations:                  70   AIC:                             852.8\n",
      "Df Residuals:                      64   BIC:                             866.3\n",
      "Df Model:                           5                                         \n",
      "Covariance Type:            nonrobust                                         \n",
      "==============================================================================\n",
      "                 coef    std err          t      P>|t|      [0.025      0.975]\n",
      "------------------------------------------------------------------------------\n",
      "Intercept      4.8204     49.133      0.098      0.922     -93.334     102.974\n",
      "I(xi)         -6.1581      7.665     -0.803      0.425     -21.471       9.154\n",
      "I(yi)          6.9795     14.473      0.482      0.631     -21.933      35.892\n",
      "I(xi ** 2)     4.9926      0.342     14.605      0.000       4.310       5.676\n",
      "I(yi ** 2)    -3.4328      1.275     -2.692      0.009      -5.981      -0.885\n",
      "I(xi * yi)     3.8198      0.577      6.624      0.000       2.668       4.972\n",
      "==============================================================================\n",
      "Omnibus:                        1.557   Durbin-Watson:                   1.920\n",
      "Prob(Omnibus):                  0.459   Jarque-Bera (JB):                1.577\n",
      "Skew:                           0.303   Prob(JB):                        0.455\n",
      "Kurtosis:                       2.585   Cond. No.                         839.\n",
      "==============================================================================\n",
      "\n",
      "Notes:\n",
      "[1] Standard Errors assume that the covariance matrix of the errors is correctly specified.\n"
     ]
    }
   ],
   "source": [
    "# F = np.column_stack((df['xi'], df['yi'], df['xi']**2, df['yi']**2, df['xi']*df['yi']))\n",
    "# F = sm.add_constant(F)\n",
    "# model = sm.OLS(endog=df['zi'], exog=F)\n",
    "## The same as below:\n",
    "\n",
    "formula = 'zi ~ 1 + I(xi) + I(yi) + I(xi**2) + I(yi**2) + I(xi*yi)'\n",
    "model = smf.ols(formula=formula, data=df)\n",
    "result = model.fit()\n",
    "print(result.summary())"
   ]
  },
  {
   "cell_type": "markdown",
   "metadata": {},
   "source": [
    "Zistenie ktoré premenné sú signifikantné."
   ]
  },
  {
   "cell_type": "code",
   "execution_count": 591,
   "metadata": {},
   "outputs": [
    {
     "data": {
      "text/html": [
       "<div>\n",
       "<style scoped>\n",
       "    .dataframe tbody tr th:only-of-type {\n",
       "        vertical-align: middle;\n",
       "    }\n",
       "\n",
       "    .dataframe tbody tr th {\n",
       "        vertical-align: top;\n",
       "    }\n",
       "\n",
       "    .dataframe thead th {\n",
       "        text-align: right;\n",
       "    }\n",
       "</style>\n",
       "<table border=\"1\" class=\"dataframe\">\n",
       "  <thead>\n",
       "    <tr style=\"text-align: right;\">\n",
       "      <th></th>\n",
       "      <th></th>\n",
       "      <th>coef</th>\n",
       "      <th>std err</th>\n",
       "      <th>t</th>\n",
       "      <th>P&gt;|t|</th>\n",
       "      <th>[0.025</th>\n",
       "      <th>0.975]</th>\n",
       "    </tr>\n",
       "  </thead>\n",
       "  <tbody>\n",
       "    <tr>\n",
       "      <th>0</th>\n",
       "      <td>I(xi ** 2)</td>\n",
       "      <td>4.9926</td>\n",
       "      <td>0.342</td>\n",
       "      <td>14.605</td>\n",
       "      <td>0.000</td>\n",
       "      <td>4.310</td>\n",
       "      <td>5.676</td>\n",
       "    </tr>\n",
       "    <tr>\n",
       "      <th>1</th>\n",
       "      <td>I(yi ** 2)</td>\n",
       "      <td>-3.4328</td>\n",
       "      <td>1.275</td>\n",
       "      <td>-2.692</td>\n",
       "      <td>0.009</td>\n",
       "      <td>-5.981</td>\n",
       "      <td>-0.885</td>\n",
       "    </tr>\n",
       "    <tr>\n",
       "      <th>2</th>\n",
       "      <td>I(xi * yi)</td>\n",
       "      <td>3.8198</td>\n",
       "      <td>0.577</td>\n",
       "      <td>6.624</td>\n",
       "      <td>0.000</td>\n",
       "      <td>2.668</td>\n",
       "      <td>4.972</td>\n",
       "    </tr>\n",
       "  </tbody>\n",
       "</table>\n",
       "</div>"
      ],
      "text/plain": [
       "                     coef    std err          t   P>|t|     [0.025     0.975]\n",
       "0  I(xi ** 2)      4.9926      0.342     14.605   0.000      4.310      5.676\n",
       "1  I(yi ** 2)     -3.4328      1.275     -2.692   0.009     -5.981     -0.885\n",
       "2  I(xi * yi)      3.8198      0.577      6.624   0.000      2.668      4.972"
      ]
     },
     "execution_count": 591,
     "metadata": {},
     "output_type": "execute_result"
    }
   ],
   "source": [
    "significant = [p_value < alfa for p_value in result.pvalues]\n",
    "df_sig = pd.DataFrame(data = [x for x in result.summary().tables[1].data[1:] if float(x[4]) < alfa], columns = result.summary().tables[1].data[0])\n",
    "df_sig\n"
   ]
  },
  {
   "cell_type": "markdown",
   "metadata": {},
   "source": [
    "Odstránenie nesignifikantných premenných z vzorcu regresie a výpočet nového modelu. Nový vzorec:"
   ]
  },
  {
   "cell_type": "markdown",
   "metadata": {},
   "source": [
    "$$Z = \\beta_1 + \\beta_2(X^2) + \\beta_3(Y^2) + \\beta_4(X\\cdot Y)$$"
   ]
  },
  {
   "cell_type": "code",
   "execution_count": 592,
   "metadata": {},
   "outputs": [
    {
     "name": "stdout",
     "output_type": "stream",
     "text": [
      "                            OLS Regression Results                            \n",
      "==============================================================================\n",
      "Dep. Variable:                     zi   R-squared:                       0.983\n",
      "Model:                            OLS   Adj. R-squared:                  0.982\n",
      "Method:                 Least Squares   F-statistic:                     1258.\n",
      "Date:                Sun, 11 Dec 2022   Prob (F-statistic):           3.80e-58\n",
      "Time:                        20:52:24   Log-Likelihood:                -420.93\n",
      "No. Observations:                  70   AIC:                             849.9\n",
      "Df Residuals:                      66   BIC:                             858.9\n",
      "Df Model:                           3                                         \n",
      "Covariance Type:            nonrobust                                         \n",
      "==============================================================================\n",
      "                 coef    std err          t      P>|t|      [0.025      0.975]\n",
      "------------------------------------------------------------------------------\n",
      "Intercept     -5.8014     23.183     -0.250      0.803     -52.088      40.485\n",
      "I(xi ** 2)     4.7195      0.146     32.246      0.000       4.427       5.012\n",
      "I(yi ** 2)    -2.7400      0.574     -4.774      0.000      -3.886      -1.594\n",
      "I(xi * yi)     3.7671      0.492      7.658      0.000       2.785       4.749\n",
      "==============================================================================\n",
      "Omnibus:                        1.539   Durbin-Watson:                   1.899\n",
      "Prob(Omnibus):                  0.463   Jarque-Bera (JB):                1.540\n",
      "Skew:                           0.335   Prob(JB):                        0.463\n",
      "Kurtosis:                       2.718   Cond. No.                         389.\n",
      "==============================================================================\n",
      "\n",
      "Notes:\n",
      "[1] Standard Errors assume that the covariance matrix of the errors is correctly specified.\n"
     ]
    }
   ],
   "source": [
    "formula_sig = 'zi ~ 1 + I(xi**2) + I(yi**2) + I(xi*yi)'\n",
    "model_sig = smf.ols(formula=formula_sig, data=df)\n",
    "result_sig = model_sig.fit()\n",
    "print(result_sig.summary())"
   ]
  },
  {
   "cell_type": "markdown",
   "metadata": {},
   "source": [
    "Submodel - 95% intervaly spoľahlivosti"
   ]
  },
  {
   "cell_type": "code",
   "execution_count": 593,
   "metadata": {},
   "outputs": [
    {
     "data": {
      "text/html": [
       "<div>\n",
       "<style scoped>\n",
       "    .dataframe tbody tr th:only-of-type {\n",
       "        vertical-align: middle;\n",
       "    }\n",
       "\n",
       "    .dataframe tbody tr th {\n",
       "        vertical-align: top;\n",
       "    }\n",
       "\n",
       "    .dataframe thead th {\n",
       "        text-align: right;\n",
       "    }\n",
       "</style>\n",
       "<table border=\"1\" class=\"dataframe\">\n",
       "  <thead>\n",
       "    <tr style=\"text-align: right;\">\n",
       "      <th></th>\n",
       "      <th>&lt;</th>\n",
       "      <th>&gt;</th>\n",
       "    </tr>\n",
       "  </thead>\n",
       "  <tbody>\n",
       "    <tr>\n",
       "      <th>Intercept</th>\n",
       "      <td>-52.087784</td>\n",
       "      <td>40.485022</td>\n",
       "    </tr>\n",
       "    <tr>\n",
       "      <th>I(xi ** 2)</th>\n",
       "      <td>4.427255</td>\n",
       "      <td>5.011690</td>\n",
       "    </tr>\n",
       "    <tr>\n",
       "      <th>I(yi ** 2)</th>\n",
       "      <td>-3.885911</td>\n",
       "      <td>-1.593995</td>\n",
       "    </tr>\n",
       "    <tr>\n",
       "      <th>I(xi * yi)</th>\n",
       "      <td>2.784960</td>\n",
       "      <td>4.749337</td>\n",
       "    </tr>\n",
       "  </tbody>\n",
       "</table>\n",
       "</div>"
      ],
      "text/plain": [
       "                    <          >\n",
       "Intercept  -52.087784  40.485022\n",
       "I(xi ** 2)   4.427255   5.011690\n",
       "I(yi ** 2)  -3.885911  -1.593995\n",
       "I(xi * yi)   2.784960   4.749337"
      ]
     },
     "execution_count": 593,
     "metadata": {},
     "output_type": "execute_result"
    }
   ],
   "source": [
    "alfa = 0.05\n",
    "int_conf = result_sig.conf_int(alpha=alfa).rename(columns = {0: '<', 1: '>'})\n",
    "int_conf"
   ]
  },
  {
   "cell_type": "markdown",
   "metadata": {},
   "source": [
    "Hodnoty R^2 (98,3%) pre originálny model a zjednodušeného submodelu sú približne rovnaké (zaokrúhlené na 3 desatinné miesta)."
   ]
  },
  {
   "cell_type": "code",
   "execution_count": 594,
   "metadata": {},
   "outputs": [
    {
     "name": "stdout",
     "output_type": "stream",
     "text": [
      "0.983\n"
     ]
    }
   ],
   "source": [
    "assert round(result.rsquared, 3) == round(result_sig.rsquared, 3)\n",
    "print(round(result_sig.rsquared, 3))"
   ]
  },
  {
   "cell_type": "markdown",
   "metadata": {},
   "source": [
    "Ďalej riešim úlohu na submodeli."
   ]
  },
  {
   "cell_type": "markdown",
   "metadata": {},
   "source": [
    "## Riešenie c)"
   ]
  },
  {
   "cell_type": "markdown",
   "metadata": {},
   "source": [
    "Nestranný rozptyl závislej premennej.\n",
    "\n",
    "Keďže bias = 0, môžeme použiť strednú kvadratickú chybu."
   ]
  },
  {
   "cell_type": "code",
   "execution_count": 595,
   "metadata": {},
   "outputs": [
    {
     "name": "stdout",
     "output_type": "stream",
     "text": [
      "10379.41299704382\n"
     ]
    }
   ],
   "source": [
    "print(result_sig.mse_resid)"
   ]
  },
  {
   "cell_type": "markdown",
   "metadata": {},
   "source": [
    "## Riešenie d)"
   ]
  },
  {
   "cell_type": "markdown",
   "metadata": {},
   "source": [
    "#### Hypotéza\n",
    "\n",
    "H0: Dva mnou zvolené regresné parametry sú súčasne nulové\n",
    "\n",
    "Ha: Dva mnou zvolené regresné parametry nie sú súčasne nulové"
   ]
  },
  {
   "cell_type": "markdown",
   "metadata": {},
   "source": [
    "F-test"
   ]
  },
  {
   "cell_type": "code",
   "execution_count": 596,
   "metadata": {},
   "outputs": [
    {
     "name": "stdout",
     "output_type": "stream",
     "text": [
      "f_test_result.pvalue = 3.293799470353056e-50\n",
      "f_test_result.pvalue < alfa\n"
     ]
    }
   ],
   "source": [
    "f_test_result = result_sig.f_test('((I(xi ** 2)) = 0), ((I(yi ** 2)) = 0)')\n",
    "print(f\"{f_test_result.pvalue = }\")\n",
    "assert f_test_result.pvalue < alfa\n",
    "print(\"f_test_result.pvalue < alfa\")"
   ]
  },
  {
   "cell_type": "markdown",
   "metadata": {},
   "source": [
    "d) p-hodnota je nižšia ako alfa\n",
    "\n",
    "H0: zamietam"
   ]
  },
  {
   "cell_type": "markdown",
   "metadata": {},
   "source": [
    "## Riešenie e)"
   ]
  },
  {
   "cell_type": "markdown",
   "metadata": {},
   "source": [
    "#### Hypotéza\n",
    "\n",
    "H0: Dva mnou zvolené regresné parametry sú rovnaké\n",
    "\n",
    "Ha: Dva mnou zvolené regresné parametry nie sú rovnaké"
   ]
  },
  {
   "cell_type": "markdown",
   "metadata": {},
   "source": [
    "T-test"
   ]
  },
  {
   "cell_type": "code",
   "execution_count": 597,
   "metadata": {},
   "outputs": [
    {
     "name": "stdout",
     "output_type": "stream",
     "text": [
      "                             Test for Constraints                             \n",
      "==============================================================================\n",
      "                 coef    std err          t      P>|t|      [0.025      0.975]\n",
      "------------------------------------------------------------------------------\n",
      "c0             7.4594      0.497     14.999      0.000       6.466       8.452\n",
      "==============================================================================\n",
      "t_test_result.pvalue = 6.063004275110807e-23\n",
      "t_test_result.pvalue < alfa\n"
     ]
    }
   ],
   "source": [
    "t_test_result = result_sig.t_test('(I(xi ** 2)) = (I(yi ** 2))')\n",
    "print(t_test_result)\n",
    "print(f\"t_test_result.pvalue = {t_test_result.pvalue}\")\n",
    "assert t_test_result.pvalue < alfa\n",
    "print(\"t_test_result.pvalue < alfa\")"
   ]
  },
  {
   "cell_type": "markdown",
   "metadata": {},
   "source": [
    "e) p-hodnota je nižšia ako alfa\n",
    "\n",
    "H0 zamietam"
   ]
  }
 ],
 "metadata": {
  "kernelspec": {
   "display_name": "Python 3.10.6 64-bit",
   "language": "python",
   "name": "python3"
  },
  "language_info": {
   "codemirror_mode": {
    "name": "ipython",
    "version": 3
   },
   "file_extension": ".py",
   "mimetype": "text/x-python",
   "name": "python",
   "nbconvert_exporter": "python",
   "pygments_lexer": "ipython3",
   "version": "3.10.6"
  },
  "orig_nbformat": 4,
  "vscode": {
   "interpreter": {
    "hash": "767d51c1340bd893661ea55ea3124f6de3c7a262a8b4abca0554b478b1e2ff90"
   }
  }
 },
 "nbformat": 4,
 "nbformat_minor": 2
}
